{
 "cells": [
  {
   "cell_type": "markdown",
   "id": "61433929",
   "metadata": {},
   "source": [
    "<center> <H1> Recipe Site Traffic </H1> </center>"
   ]
  },
  {
   "cell_type": "markdown",
   "id": "19522b47",
   "metadata": {},
   "source": [
    "## Table of Contents\n",
    "\n",
    "1. [Project Overview](#1-project-overview)   \n",
    "   1.1. [Goal](#11-goal)\n",
    "\n",
    "2. [Dataset](#2-dataset)   \n",
    "   2.1. [Data Inspection](#21-data-inspection)\n",
    "\n",
    "   2.2. [Data Transformation](#22-data-transformation)\n",
    "\n",
    "   2.3. [Data Validation](#23-data-validation)\n",
    "\n",
    "3. [Exploratory Data Analysis](#3-exploratory-data-analysis)   \n",
    "   3.1. [Report](#31-report)\n",
    "\n",
    "4. [Modeling](#4-modeling)   \n",
    "   4.1. [Model Fitting](#41-model-fitting)\n",
    "\n",
    "   4.2. [Model Hyperparameter Tuning](#42-model-hyperparameter-tuning)\n",
    "   \n",
    "   4.3. [Model Evaluation](#43-model-evaluation)\n",
    "\n",
    "5. [Business Metrics](#5-business-metrics)\n",
    "   \n",
    "6. [Recommendation](#6-recommendation)"
   ]
  },
  {
   "cell_type": "markdown",
   "id": "c9887e74-3e17-41dd-bee5-10840a4a4372",
   "metadata": {},
   "source": [
    "# 1. Project Overview\n",
    "\n",
    "Launched in 2020, Tasty Bytes began as a recipe search tool, helping users make the most of available ingredients they had at home. Now an established company, they provide comprehensive meal plans via subscriptions, ensuring nutritious meals regardless of budget. Premium subscribers enjoy doorstep ingredient delivery. \n",
    "\n",
    "They've observed a 40% increase in overall website traffic when a popular recipe is featured on the homepage. However, determining recipe popularity remains a challenge, crucial for boosting subscriptions and company success.\n",
    "\n",
    "## 1.1 Goal\n",
    "The goal is to predict recipes driving high website traffic and attain 80% accuracy in predicting high-traffic recipes."
   ]
  },
  {
   "cell_type": "markdown",
   "id": "d9bb1ca2-215b-4289-99bb-308776651b0f",
   "metadata": {},
   "source": [
    "# 2. Dataset\n",
    "\n",
    "The dataset used for this analysis can be accessed here: `\"recipe_site_traffic.csv\"`\n",
    "\n",
    "| Column Name              | Criteria                                                      |\n",
    "|------------------|--------------------------------------------------------------|\n",
    "| recipe | Numeric, unique identifier of recipe |\n",
    "| calories        | Numeric, number of calories |\n",
    "| carbohydrate       | Numeric, amount of carbohydrates in grams  |\n",
    "| sugar    | Numeric, amount of sugar in grams    |\n",
    "| protein      | Numeric, amount of protein in grams     |\n",
    "| category    | Character, type of recipe. Recipes are listed in one of ten possible groupings (Lunch/Snacks', 'Beverages', 'Potato', 'Vegetable', 'Meat', 'Chicken, 'Pork', 'Dessert', 'Breakfast', 'One Dish Meal').      |\n",
    "| servings          | Numeric, number of servings for the recipe            |\n",
    "| high_traffic | Character, if the traffic to the site was high when this recipe was shown, this is marked with “High”.          |"
   ]
  },
  {
   "cell_type": "code",
   "execution_count": 1,
   "id": "45554a01-416e-4127-8e3e-53cc0290cb5a",
   "metadata": {
    "executionCancelledAt": null,
    "executionTime": 3395,
    "lastExecutedAt": 1692327778894,
    "lastScheduledRunId": null,
    "lastSuccessfullyExecutedCode": "# import libraries\nimport pandas as pd\nimport numpy as np\nimport matplotlib.pyplot as plt \nimport seaborn as sns\nsns.set_style(\"dark\")\n\n# enable inline plotting in Jupyter Notebook\n%matplotlib inline\n\n# set font size\nplt.rcParams.update({'font.size': 16})\n\n# import libraries for ML\nfrom sklearn.impute import SimpleImputer\nfrom sklearn.model_selection import train_test_split\nfrom sklearn.metrics import accuracy_score, confusion_matrix, f1_score, plot_confusion_matrix\nfrom sklearn.preprocessing import OrdinalEncoder, MinMaxScaler\n\n# ML models\nfrom sklearn.linear_model import LogisticRegression\nfrom sklearn.ensemble import RandomForestClassifier\n\nimport warnings\nwarnings.filterwarnings(\"ignore\")"
   },
   "outputs": [],
   "source": [
    "# import libraries\n",
    "import pandas as pd\n",
    "import numpy as np\n",
    "import matplotlib.pyplot as plt \n",
    "import seaborn as sns\n",
    "\n",
    "# enable inline plotting in Jupyter Notebook\n",
    "%matplotlib inline\n",
    "\n",
    "# import libraries for ML\n",
    "from sklearn.impute import SimpleImputer\n",
    "from sklearn.model_selection import train_test_split, GridSearchCV\n",
    "from sklearn.metrics import accuracy_score, confusion_matrix, f1_score, plot_confusion_matrix, classification_report\n",
    "from sklearn.preprocessing import OrdinalEncoder, MinMaxScaler\n",
    "\n",
    "# ML models\n",
    "from sklearn.linear_model import LogisticRegression\n",
    "from sklearn.ensemble import RandomForestClassifier\n",
    "from sklearn.tree import DecisionTreeClassifier\n",
    "from xgboost import XGBClassifier\n",
    "from sklearn.ensemble import GradientBoostingClassifier\n",
    "\n",
    "import warnings\n",
    "warnings.filterwarnings(\"ignore\")"
   ]
  },
  {
   "cell_type": "code",
   "execution_count": 2,
   "id": "2cd8f7c3-ad85-4758-955f-2cd4769f0b0e",
   "metadata": {
    "executionCancelledAt": null,
    "executionTime": null,
    "lastExecutedAt": null,
    "lastScheduledRunId": null,
    "lastSuccessfullyExecutedCode": null,
    "outputsMetadata": {
     "0": {
      "height": 36,
      "type": "stream"
     }
    }
   },
   "outputs": [
    {
     "name": "stdout",
     "output_type": "stream",
     "text": [
      "Data imported successfully\n"
     ]
    }
   ],
   "source": [
    "# load dataset\n",
    "dataset = pd.read_csv('recipe_site_traffic.csv')\n",
    "print(\"Data imported successfully\")"
   ]
  },
  {
   "cell_type": "code",
   "execution_count": 3,
   "id": "435359f5-31cb-44c2-a393-0cb4cf2ae755",
   "metadata": {
    "executionCancelledAt": null,
    "executionTime": 50,
    "lastExecutedAt": 1692327778997,
    "lastScheduledRunId": null,
    "lastSuccessfullyExecutedCode": "# create a copy of the original dataset\ndf = dataset.copy()"
   },
   "outputs": [],
   "source": [
    "# create a copy of the original dataset\n",
    "df = dataset.copy()"
   ]
  },
  {
   "cell_type": "markdown",
   "id": "6367c79c-3cda-4c3a-bf44-044324ad5485",
   "metadata": {},
   "source": [
    "## 2.1 Data Inspection"
   ]
  },
  {
   "cell_type": "code",
   "execution_count": 4,
   "id": "6eca6aca-40af-440b-a4d8-41308b8c8c24",
   "metadata": {
    "chartConfig": {
     "bar": {
      "hasRoundedCorners": true,
      "stacked": false
     },
     "type": "bar",
     "version": "v1",
     "x": {
      "field": "category",
      "type": "string"
     },
     "y": {
      "field": "high_traffic",
      "type": "string"
     }
    },
    "executionCancelledAt": null,
    "executionTime": null,
    "lastExecutedAt": null,
    "lastScheduledRunId": null,
    "lastSuccessfullyExecutedCode": null,
    "outputsMetadata": {
     "0": {
      "height": 198,
      "type": "dataFrame"
     }
    },
    "visualizeDataframe": false
   },
   "outputs": [
    {
     "data": {
      "text/html": [
       "<div>\n",
       "<style scoped>\n",
       "    .dataframe tbody tr th:only-of-type {\n",
       "        vertical-align: middle;\n",
       "    }\n",
       "\n",
       "    .dataframe tbody tr th {\n",
       "        vertical-align: top;\n",
       "    }\n",
       "\n",
       "    .dataframe thead th {\n",
       "        text-align: right;\n",
       "    }\n",
       "</style>\n",
       "<table border=\"1\" class=\"dataframe\">\n",
       "  <thead>\n",
       "    <tr style=\"text-align: right;\">\n",
       "      <th></th>\n",
       "      <th>recipe</th>\n",
       "      <th>calories</th>\n",
       "      <th>carbohydrate</th>\n",
       "      <th>sugar</th>\n",
       "      <th>protein</th>\n",
       "      <th>category</th>\n",
       "      <th>servings</th>\n",
       "      <th>high_traffic</th>\n",
       "    </tr>\n",
       "  </thead>\n",
       "  <tbody>\n",
       "    <tr>\n",
       "      <th>0</th>\n",
       "      <td>1</td>\n",
       "      <td>NaN</td>\n",
       "      <td>NaN</td>\n",
       "      <td>NaN</td>\n",
       "      <td>NaN</td>\n",
       "      <td>Pork</td>\n",
       "      <td>6</td>\n",
       "      <td>High</td>\n",
       "    </tr>\n",
       "    <tr>\n",
       "      <th>1</th>\n",
       "      <td>2</td>\n",
       "      <td>35.48</td>\n",
       "      <td>38.56</td>\n",
       "      <td>0.66</td>\n",
       "      <td>0.92</td>\n",
       "      <td>Potato</td>\n",
       "      <td>4</td>\n",
       "      <td>High</td>\n",
       "    </tr>\n",
       "    <tr>\n",
       "      <th>2</th>\n",
       "      <td>3</td>\n",
       "      <td>914.28</td>\n",
       "      <td>42.68</td>\n",
       "      <td>3.09</td>\n",
       "      <td>2.88</td>\n",
       "      <td>Breakfast</td>\n",
       "      <td>1</td>\n",
       "      <td>NaN</td>\n",
       "    </tr>\n",
       "    <tr>\n",
       "      <th>3</th>\n",
       "      <td>4</td>\n",
       "      <td>97.03</td>\n",
       "      <td>30.56</td>\n",
       "      <td>38.63</td>\n",
       "      <td>0.02</td>\n",
       "      <td>Beverages</td>\n",
       "      <td>4</td>\n",
       "      <td>High</td>\n",
       "    </tr>\n",
       "    <tr>\n",
       "      <th>4</th>\n",
       "      <td>5</td>\n",
       "      <td>27.05</td>\n",
       "      <td>1.85</td>\n",
       "      <td>0.80</td>\n",
       "      <td>0.53</td>\n",
       "      <td>Beverages</td>\n",
       "      <td>4</td>\n",
       "      <td>NaN</td>\n",
       "    </tr>\n",
       "  </tbody>\n",
       "</table>\n",
       "</div>"
      ],
      "text/plain": [
       "   recipe  calories  carbohydrate  sugar  protein   category servings  \\\n",
       "0       1       NaN           NaN    NaN      NaN       Pork        6   \n",
       "1       2     35.48         38.56   0.66     0.92     Potato        4   \n",
       "2       3    914.28         42.68   3.09     2.88  Breakfast        1   \n",
       "3       4     97.03         30.56  38.63     0.02  Beverages        4   \n",
       "4       5     27.05          1.85   0.80     0.53  Beverages        4   \n",
       "\n",
       "  high_traffic  \n",
       "0         High  \n",
       "1         High  \n",
       "2          NaN  \n",
       "3         High  \n",
       "4          NaN  "
      ]
     },
     "execution_count": 4,
     "metadata": {},
     "output_type": "execute_result"
    }
   ],
   "source": [
    "# inspect dataframe by printing out the first 5 rows\n",
    "df.head()"
   ]
  },
  {
   "cell_type": "code",
   "execution_count": 5,
   "id": "badd3e15-ee01-4a9c-b414-16993576efb5",
   "metadata": {
    "executionCancelledAt": null,
    "executionTime": 47,
    "lastExecutedAt": 1692327779098,
    "lastScheduledRunId": null,
    "lastSuccessfullyExecutedCode": "# check the shape of the dataset i.e. the number of rows and columns\ndf.shape"
   },
   "outputs": [
    {
     "data": {
      "text/plain": [
       "(947, 8)"
      ]
     },
     "execution_count": 5,
     "metadata": {},
     "output_type": "execute_result"
    }
   ],
   "source": [
    "# check the shape of the dataset i.e. the number of rows and columns\n",
    "df.shape"
   ]
  },
  {
   "cell_type": "code",
   "execution_count": 6,
   "id": "26aba185-76fb-4896-b2df-6b63c867e83e",
   "metadata": {
    "executionCancelledAt": null,
    "executionTime": null,
    "lastExecutedAt": null,
    "lastScheduledRunId": null,
    "lastSuccessfullyExecutedCode": null,
    "outputsMetadata": {
     "0": {
      "height": 309,
      "type": "stream"
     }
    }
   },
   "outputs": [
    {
     "name": "stdout",
     "output_type": "stream",
     "text": [
      "<class 'pandas.core.frame.DataFrame'>\n",
      "RangeIndex: 947 entries, 0 to 946\n",
      "Data columns (total 8 columns):\n",
      " #   Column        Non-Null Count  Dtype  \n",
      "---  ------        --------------  -----  \n",
      " 0   recipe        947 non-null    int64  \n",
      " 1   calories      895 non-null    float64\n",
      " 2   carbohydrate  895 non-null    float64\n",
      " 3   sugar         895 non-null    float64\n",
      " 4   protein       895 non-null    float64\n",
      " 5   category      947 non-null    object \n",
      " 6   servings      947 non-null    object \n",
      " 7   high_traffic  574 non-null    object \n",
      "dtypes: float64(4), int64(1), object(3)\n",
      "memory usage: 59.3+ KB\n"
     ]
    }
   ],
   "source": [
    "# information about the dataset\n",
    "df.info()"
   ]
  },
  {
   "cell_type": "code",
   "execution_count": 7,
   "id": "065792c1-1672-4d13-8fc3-23a11bb94ddb",
   "metadata": {
    "executionCancelledAt": null,
    "executionTime": 52,
    "lastExecutedAt": 1692327779206,
    "lastScheduledRunId": null,
    "lastSuccessfullyExecutedCode": "# check the datatype counts of the dataset\ndf.dtypes.value_counts()"
   },
   "outputs": [
    {
     "data": {
      "text/plain": [
       "float64    4\n",
       "object     3\n",
       "int64      1\n",
       "dtype: int64"
      ]
     },
     "execution_count": 7,
     "metadata": {},
     "output_type": "execute_result"
    }
   ],
   "source": [
    "# check the datatype counts of the dataset\n",
    "df.dtypes.value_counts()"
   ]
  },
  {
   "cell_type": "code",
   "execution_count": 8,
   "id": "0825e4cf-588f-415a-91f0-75a6f5687223",
   "metadata": {
    "executionCancelledAt": null,
    "executionTime": 52,
    "lastExecutedAt": 1692327779258,
    "lastScheduledRunId": null,
    "lastSuccessfullyExecutedCode": "# number of unique values in each features\ndf.nunique()"
   },
   "outputs": [
    {
     "data": {
      "text/plain": [
       "recipe          947\n",
       "calories        891\n",
       "carbohydrate    835\n",
       "sugar           666\n",
       "protein         772\n",
       "category         11\n",
       "servings          6\n",
       "high_traffic      1\n",
       "dtype: int64"
      ]
     },
     "execution_count": 8,
     "metadata": {},
     "output_type": "execute_result"
    }
   ],
   "source": [
    "# number of unique values in each features\n",
    "df.nunique()"
   ]
  },
  {
   "cell_type": "code",
   "execution_count": 9,
   "id": "f34ae6b0-908a-44ec-a16e-0b293529f7ef",
   "metadata": {
    "executionCancelledAt": null,
    "executionTime": 51,
    "lastExecutedAt": 1692327779309,
    "lastScheduledRunId": null,
    "lastSuccessfullyExecutedCode": "# check for duplicated record\ndf.duplicated().any()"
   },
   "outputs": [
    {
     "data": {
      "text/plain": [
       "False"
      ]
     },
     "execution_count": 9,
     "metadata": {},
     "output_type": "execute_result"
    }
   ],
   "source": [
    "# check for duplicated record\n",
    "df.duplicated().any()"
   ]
  },
  {
   "cell_type": "code",
   "execution_count": 10,
   "id": "49c02893-3f34-4f80-a527-ca71486bd638",
   "metadata": {
    "executionCancelledAt": null,
    "executionTime": 51,
    "lastExecutedAt": 1692327779361,
    "lastScheduledRunId": null,
    "lastSuccessfullyExecutedCode": "# check for missingness in the features\ndf.isnull().sum()"
   },
   "outputs": [
    {
     "data": {
      "text/plain": [
       "recipe            0\n",
       "calories         52\n",
       "carbohydrate     52\n",
       "sugar            52\n",
       "protein          52\n",
       "category          0\n",
       "servings          0\n",
       "high_traffic    373\n",
       "dtype: int64"
      ]
     },
     "execution_count": 10,
     "metadata": {},
     "output_type": "execute_result"
    }
   ],
   "source": [
    "# check for missingness in the features\n",
    "df.isnull().sum()"
   ]
  },
  {
   "cell_type": "code",
   "execution_count": 11,
   "id": "e8a30dc3-475b-4381-bfdc-bf3773109bb0",
   "metadata": {
    "executionCancelledAt": null,
    "executionTime": 53,
    "lastExecutedAt": 1692327779414,
    "lastScheduledRunId": null,
    "lastSuccessfullyExecutedCode": "# check for percentage of null record\nround(df.isnull().sum()/len(df)*100, 2)"
   },
   "outputs": [
    {
     "data": {
      "text/plain": [
       "recipe           0.00\n",
       "calories         5.49\n",
       "carbohydrate     5.49\n",
       "sugar            5.49\n",
       "protein          5.49\n",
       "category         0.00\n",
       "servings         0.00\n",
       "high_traffic    39.39\n",
       "dtype: float64"
      ]
     },
     "execution_count": 11,
     "metadata": {},
     "output_type": "execute_result"
    }
   ],
   "source": [
    "# check for percentage of null record\n",
    "round(df.isnull().sum()/len(df)*100, 2)"
   ]
  },
  {
   "cell_type": "code",
   "execution_count": 12,
   "id": "6dfbcf7e-02bc-4c98-b357-c470b68c2b8d",
   "metadata": {
    "executionCancelledAt": null,
    "executionTime": 382,
    "lastExecutedAt": 1692327779796,
    "lastScheduledRunId": null,
    "lastSuccessfullyExecutedCode": "# plot the missingness in the features\ndf.isnull().sum().plot(kind='bar')\nplt.title('Plot of missingness in the features');"
   },
   "outputs": [
    {
     "data": {
      "image/png": "[encoded data removed]",
      "text/plain": [
       "<Figure size 432x288 with 1 Axes>"
      ]
     },
     "metadata": {
      "needs_background": "light"
     },
     "output_type": "display_data"
    }
   ],
   "source": [
    "# plot the missingness in the features\n",
    "df.isnull().sum().plot(kind='bar')\n",
    "plt.title('Plot of missingness in the features');"
   ]
  },
  {
   "cell_type": "markdown",
   "id": "de3ac70f-cdcb-4d53-aa27-86d52f3ab3d1",
   "metadata": {},
   "source": [
    "## 2.2 Data Transformation"
   ]
  },
  {
   "cell_type": "code",
   "execution_count": 13,
   "id": "8c8723f6-3d0f-4b65-a3f6-dc1467932bea",
   "metadata": {
    "executionCancelledAt": null,
    "executionTime": 52,
    "lastExecutedAt": 1692327779849,
    "lastScheduledRunId": null,
    "lastSuccessfullyExecutedCode": "# drop the 'recipe' column as it represnts the unique identifier of the recipe and \n# will not be required for modelling\ndf.drop(['recipe'], axis=1, inplace=True) "
   },
   "outputs": [],
   "source": [
    "# drop the 'recipe' column as it represents the unique identifier of the recipe and \n",
    "# will not be required for modelling\n",
    "df.drop(['recipe'], axis=1, inplace=True) "
   ]
  },
  {
   "cell_type": "code",
   "execution_count": 14,
   "id": "19a919d4-386d-49c4-9880-538206dff282",
   "metadata": {
    "executionCancelledAt": null,
    "executionTime": 51,
    "lastExecutedAt": 1692327779901,
    "lastScheduledRunId": null,
    "lastSuccessfullyExecutedCode": "# fill NaNs with column mean in 'calories', 'carbohydrate', 'sugar' and 'protein' columns\ncols_with_missing_val = ['calories', 'carbohydrate', 'sugar', 'protein']\n\n# Create a SimpleImputer instance\nimputer = SimpleImputer(strategy='mean')\n\n# Fit the imputer on nan_rows and transform it to fill missing values\ndf[cols_with_missing_val] = imputer.fit_transform(df[cols_with_missing_val])"
   },
   "outputs": [],
   "source": [
    "# fill NaNs with column mean in 'calories', 'carbohydrate', 'sugar' and 'protein' columns\n",
    "cols_with_missing_val = ['calories', 'carbohydrate', 'sugar', 'protein']\n",
    "\n",
    "# Create a SimpleImputer instance\n",
    "imputer = SimpleImputer(strategy='mean')\n",
    "\n",
    "# Fit the imputer on nan_rows and transform it to fill missing values\n",
    "df[cols_with_missing_val] = imputer.fit_transform(df[cols_with_missing_val])"
   ]
  },
  {
   "cell_type": "code",
   "execution_count": 15,
   "id": "bb87755e-1fd6-45c4-9f08-7a0f28f72693",
   "metadata": {
    "executionCancelledAt": null,
    "executionTime": 51,
    "lastExecutedAt": 1692327779953,
    "lastScheduledRunId": null,
    "lastSuccessfullyExecutedCode": "# Count the occurrences of each unique value in the 'category' column to understand the distribution of recipe categories.\n# This helps us gain insights into the most common recipe categories and their prevalence in the dataset.\n\n# Calculate the value counts of category\ndf['category'].value_counts()"
   },
   "outputs": [
    {
     "data": {
      "text/plain": [
       "Breakfast         106\n",
       "Chicken Breast     98\n",
       "Beverages          92\n",
       "Lunch/Snacks       89\n",
       "Potato             88\n",
       "Pork               84\n",
       "Vegetable          83\n",
       "Dessert            83\n",
       "Meat               79\n",
       "Chicken            74\n",
       "One Dish Meal      71\n",
       "Name: category, dtype: int64"
      ]
     },
     "execution_count": 15,
     "metadata": {},
     "output_type": "execute_result"
    }
   ],
   "source": [
    "# Count the occurrences of each unique value in the 'category' column to understand the distribution of recipe categories.\n",
    "# This helps us gain insights into the most common recipe categories and their prevalence in the dataset.\n",
    "\n",
    "# Calculate the value counts of category\n",
    "df['category'].value_counts()"
   ]
  },
  {
   "cell_type": "code",
   "execution_count": 16,
   "id": "eb82f013-c6bd-416a-aee2-9f214bbb0a08",
   "metadata": {
    "executionCancelledAt": null,
    "executionTime": 52,
    "lastExecutedAt": 1692327780005,
    "lastScheduledRunId": null,
    "lastSuccessfullyExecutedCode": "# Some entries have category formatted as 'Chicken Breast', this will be replaced as 'Chicken'\ndf['category'] = df['category'].str.replace('Chicken Breast', 'Chicken')"
   },
   "outputs": [],
   "source": [
    "# Some entries have category formatted as 'Chicken Breast', this will be replaced as 'Chicken'\n",
    "df['category'] = df['category'].str.replace('Chicken Breast', 'Chicken')"
   ]
  },
  {
   "cell_type": "code",
   "execution_count": 17,
   "id": "f88986cd-c7be-4aae-8519-0c03bd861017",
   "metadata": {
    "executionCancelledAt": null,
    "executionTime": 51,
    "lastExecutedAt": 1692327780057,
    "lastScheduledRunId": null,
    "lastSuccessfullyExecutedCode": "# Calculate and display the frequency count of unique values in the 'servings' column.\n# This provides insights into the distribution of serving sizes across the dataset.\ndf['servings'].value_counts()"
   },
   "outputs": [
    {
     "data": {
      "text/plain": [
       "4               389\n",
       "6               197\n",
       "2               183\n",
       "1               175\n",
       "4 as a snack      2\n",
       "6 as a snack      1\n",
       "Name: servings, dtype: int64"
      ]
     },
     "execution_count": 17,
     "metadata": {},
     "output_type": "execute_result"
    }
   ],
   "source": [
    "# Calculate and display the frequency count of unique values in the 'servings' column.\n",
    "# This provides insights into the distribution of serving sizes across the dataset.\n",
    "df['servings'].value_counts()"
   ]
  },
  {
   "cell_type": "code",
   "execution_count": 18,
   "id": "31bc5237-c2aa-496d-a264-eb69fd2eb4da",
   "metadata": {
    "executionCancelledAt": null,
    "executionTime": 52,
    "lastExecutedAt": 1692327780109,
    "lastScheduledRunId": null,
    "lastSuccessfullyExecutedCode": "# Replace serving sizes with numeric values in the 'servings' column\n# Some entries have serving sizes formatted as '4 as a snack' or '6 as a snack' and will be replaced with numeric value '4' or '6' respectively\n\ndf['servings'] = df['servings'].str.replace('4 as a snack', '4')\ndf['servings'] = df['servings'].str.replace('6 as a snack', '6')"
   },
   "outputs": [],
   "source": [
    "# Replace serving sizes with numeric values in the 'servings' column\n",
    "# Some entries have serving sizes formatted as '4 as a snack' or '6 as a snack' and will be replaced with numeric value '4' or '6' respectively\n",
    "\n",
    "df['servings'] = df['servings'].str.replace('4 as a snack', '4')\n",
    "df['servings'] = df['servings'].str.replace('6 as a snack', '6')"
   ]
  },
  {
   "cell_type": "code",
   "execution_count": 19,
   "id": "aca6295a-f7ed-4e37-9428-0b56cf0ba6e7",
   "metadata": {
    "executionCancelledAt": null,
    "executionTime": 52,
    "lastExecutedAt": 1692327780161,
    "lastScheduledRunId": null,
    "lastSuccessfullyExecutedCode": "# Convert 'servings' to numeric\ndf['servings'] = pd.to_numeric(df['servings'], errors='coerce')"
   },
   "outputs": [],
   "source": [
    "# Convert 'servings' to numeric\n",
    "df['servings'] = pd.to_numeric(df['servings'], errors='coerce')"
   ]
  },
  {
   "cell_type": "code",
   "execution_count": 20,
   "id": "7f534fa5-c72a-4333-9f72-feb3b100f9f7",
   "metadata": {
    "executionCancelledAt": null,
    "executionTime": 52,
    "lastExecutedAt": 1692327780213,
    "lastScheduledRunId": null,
    "lastSuccessfullyExecutedCode": "# Count the occurrences of each unique value in the 'high_traffic' column\n# This provides insight into the distribution of high and non-high traffic recipes\ndf['high_traffic'].value_counts()"
   },
   "outputs": [
    {
     "data": {
      "text/plain": [
       "High    574\n",
       "Name: high_traffic, dtype: int64"
      ]
     },
     "execution_count": 20,
     "metadata": {},
     "output_type": "execute_result"
    }
   ],
   "source": [
    "# Count the occurrences of each unique value in the 'high_traffic' column\n",
    "# This provides insight into the distribution of high and non-high traffic recipes\n",
    "df['high_traffic'].value_counts()"
   ]
  },
  {
   "cell_type": "code",
   "execution_count": 21,
   "id": "8b8858dc-863f-4cde-8698-52f97ddeacc3",
   "metadata": {
    "executionCancelledAt": null,
    "executionTime": 51,
    "lastExecutedAt": 1692327780265,
    "lastScheduledRunId": null,
    "lastSuccessfullyExecutedCode": "# replacing NaN values in high_traffic with 'Low'\ndf['high_traffic'].fillna(\"Low\", inplace = True)"
   },
   "outputs": [],
   "source": [
    "# replacing NaN values in high_traffic with 'Low'\n",
    "df['high_traffic'].fillna(\"Low\", inplace = True)"
   ]
  },
  {
   "cell_type": "code",
   "execution_count": 22,
   "id": "8f1bf806-c413-4fe2-aa6f-b67f1f67f70b",
   "metadata": {
    "executionCancelledAt": null,
    "executionTime": 51,
    "lastExecutedAt": 1692327780317,
    "lastScheduledRunId": null,
    "lastSuccessfullyExecutedCode": "# Rename the 'high_traffic' column to 'traffic' as it contains traffic variables; 'High' and 'Low'\ndf.rename(columns={'high_traffic': 'traffic'}, inplace=True)"
   },
   "outputs": [],
   "source": [
    "# Rename the 'high_traffic' column to 'traffic' as it contains traffic variables; 'High' and 'Low'\n",
    "df.rename(columns={'high_traffic': 'traffic'}, inplace=True)"
   ]
  },
  {
   "cell_type": "code",
   "execution_count": 23,
   "id": "096a8da7-15b4-400b-8321-ad9a4584d76e",
   "metadata": {
    "executionCancelledAt": null,
    "executionTime": 47,
    "lastExecutedAt": 1692327780365,
    "lastScheduledRunId": null,
    "lastSuccessfullyExecutedCode": "# plot summary statistics \ndf.describe()",
    "outputsMetadata": {
     "0": {
      "height": 273,
      "type": "dataFrame"
     }
    }
   },
   "outputs": [
    {
     "data": {
      "text/html": [
       "<div>\n",
       "<style scoped>\n",
       "    .dataframe tbody tr th:only-of-type {\n",
       "        vertical-align: middle;\n",
       "    }\n",
       "\n",
       "    .dataframe tbody tr th {\n",
       "        vertical-align: top;\n",
       "    }\n",
       "\n",
       "    .dataframe thead th {\n",
       "        text-align: right;\n",
       "    }\n",
       "</style>\n",
       "<table border=\"1\" class=\"dataframe\">\n",
       "  <thead>\n",
       "    <tr style=\"text-align: right;\">\n",
       "      <th></th>\n",
       "      <th>calories</th>\n",
       "      <th>carbohydrate</th>\n",
       "      <th>sugar</th>\n",
       "      <th>protein</th>\n",
       "      <th>servings</th>\n",
       "    </tr>\n",
       "  </thead>\n",
       "  <tbody>\n",
       "    <tr>\n",
       "      <th>count</th>\n",
       "      <td>947.000000</td>\n",
       "      <td>947.000000</td>\n",
       "      <td>947.000000</td>\n",
       "      <td>947.000000</td>\n",
       "      <td>947.000000</td>\n",
       "    </tr>\n",
       "    <tr>\n",
       "      <th>mean</th>\n",
       "      <td>435.939196</td>\n",
       "      <td>35.069676</td>\n",
       "      <td>9.046547</td>\n",
       "      <td>24.149296</td>\n",
       "      <td>3.477297</td>\n",
       "    </tr>\n",
       "    <tr>\n",
       "      <th>std</th>\n",
       "      <td>440.394131</td>\n",
       "      <td>42.724059</td>\n",
       "      <td>14.270029</td>\n",
       "      <td>35.356020</td>\n",
       "      <td>1.732741</td>\n",
       "    </tr>\n",
       "    <tr>\n",
       "      <th>min</th>\n",
       "      <td>0.140000</td>\n",
       "      <td>0.030000</td>\n",
       "      <td>0.010000</td>\n",
       "      <td>0.000000</td>\n",
       "      <td>1.000000</td>\n",
       "    </tr>\n",
       "    <tr>\n",
       "      <th>25%</th>\n",
       "      <td>114.410000</td>\n",
       "      <td>9.135000</td>\n",
       "      <td>1.795000</td>\n",
       "      <td>3.465000</td>\n",
       "      <td>2.000000</td>\n",
       "    </tr>\n",
       "    <tr>\n",
       "      <th>50%</th>\n",
       "      <td>313.530000</td>\n",
       "      <td>23.170000</td>\n",
       "      <td>5.050000</td>\n",
       "      <td>12.120000</td>\n",
       "      <td>4.000000</td>\n",
       "    </tr>\n",
       "    <tr>\n",
       "      <th>75%</th>\n",
       "      <td>576.225000</td>\n",
       "      <td>42.590000</td>\n",
       "      <td>9.285000</td>\n",
       "      <td>28.530000</td>\n",
       "      <td>4.000000</td>\n",
       "    </tr>\n",
       "    <tr>\n",
       "      <th>max</th>\n",
       "      <td>3633.160000</td>\n",
       "      <td>530.420000</td>\n",
       "      <td>148.750000</td>\n",
       "      <td>363.360000</td>\n",
       "      <td>6.000000</td>\n",
       "    </tr>\n",
       "  </tbody>\n",
       "</table>\n",
       "</div>"
      ],
      "text/plain": [
       "          calories  carbohydrate       sugar     protein    servings\n",
       "count   947.000000    947.000000  947.000000  947.000000  947.000000\n",
       "mean    435.939196     35.069676    9.046547   24.149296    3.477297\n",
       "std     440.394131     42.724059   14.270029   35.356020    1.732741\n",
       "min       0.140000      0.030000    0.010000    0.000000    1.000000\n",
       "25%     114.410000      9.135000    1.795000    3.465000    2.000000\n",
       "50%     313.530000     23.170000    5.050000   12.120000    4.000000\n",
       "75%     576.225000     42.590000    9.285000   28.530000    4.000000\n",
       "max    3633.160000    530.420000  148.750000  363.360000    6.000000"
      ]
     },
     "execution_count": 23,
     "metadata": {},
     "output_type": "execute_result"
    }
   ],
   "source": [
    "# plot summary statistics \n",
    "df.describe()"
   ]
  },
  {
   "cell_type": "markdown",
   "id": "f49c42ae-b8f5-4cbb-a580-26a9b62cca0d",
   "metadata": {},
   "source": [
    "## 2.3 Data Validation\n",
    "\n",
    "\n",
    "### Observation\n",
    "1. The dataset consists of 947 rows and 8 columns.\n",
    "2. The dataset consists of float64(4), int64(1) and object(3) datatypes respectively.\n",
    "3. The 'recipe', 'calories', 'carbohydrate', 'sugar', 'protein', 'category' and 'high_traffic' features datatype were consistent with the data dictionary while the 'servings' feature was not consistent. It was an object datatype instead of numeric. \n",
    "5. The unique variables in the 'category', 'servings' and 'high_traffic' fields were assessed.\n",
    "6. The 'category' feature has 11 unique variables instead of 10 as provided by the data dictionary. This could be due to inconsistent data entry.\n",
    "7. The 'servings' feature has 6 unique variables consisting of numeric and object datatypes. This will be formatted so as to be consistent with the data dictionary criteria.\n",
    "8. Missing values in the 'calories', 'carbohydrate', 'sugar' and 'protein' features were 5.49% respectively and 'high_traffic' field missing value was 39.4%.\n",
    "9. The 'high_traffic' column contained two features, i.e. 'High' and null values. This translates that the null values represent 'Low' traffic. Also, the column will be renamed to 'traffic'.\n",
    "10. The summary statistics was obtained.\n",
    "\n",
    "\n",
    "### Data Cleaning\n",
    "1. The 'recipe' column was dropped because it represents the unique identifier of the recipe and will not be required for modelling.\n",
    "2. Missing values in the 'calories', 'carbohydrate', 'sugar' and 'protein' fields were replaced with mean value of respective features.\n",
    "3. Some entries have serving sizes formatted as '4 as a snack' or '6 as a snack' were replaced with the numeric value '4' or '6' respectively. Thereafter, the 'servings' feature was converted to numeric.\n",
    "4. Some entries have category formatted as 'Chicken Breast' and was replaced with the value 'Chicken'.\n",
    "5. Rows that contain null values in 'high_traffic' field were replaced with 'Low'.\n",
    "6. The 'high_traffic' column was renamed to 'traffic'."
   ]
  },
  {
   "cell_type": "markdown",
   "id": "7435c4ed-1a44-4928-b9a7-bd63f837d746",
   "metadata": {},
   "source": [
    "# 3. Exploratory Data Analysis"
   ]
  },
  {
   "cell_type": "code",
   "execution_count": 24,
   "id": "ff56a06c-ea52-4233-b3a0-5dbce0a242f9",
   "metadata": {
    "executionCancelledAt": null,
    "executionTime": 272,
    "lastExecutedAt": 1692327780637,
    "lastScheduledRunId": null,
    "lastSuccessfullyExecutedCode": "# visualize the category distribution\n\nplt.figure(figsize=(10, 6))\ndf['category'].value_counts().plot(kind='bar')\nplt.title('Distribution of Category')\nplt.xlabel('Category')\nplt.ylabel('Count/ Number of Category')\nplt.xticks(rotation=75)\nplt.show()"
   },
   "outputs": [
    {
     "data": {
      "image/png": "[encoded data removed]",
      "text/plain": [
       "<Figure size 720x432 with 1 Axes>"
      ]
     },
     "metadata": {
      "needs_background": "light"
     },
     "output_type": "display_data"
    }
   ],
   "source": [
    "# visualize the category distribution\n",
    "\n",
    "plt.figure(figsize=(10, 6))\n",
    "df['category'].value_counts().plot(kind='bar')\n",
    "plt.title('Distribution of Category')\n",
    "plt.xlabel('Category')\n",
    "plt.ylabel('Count/ Number of Category')\n",
    "plt.xticks(rotation=90)\n",
    "plt.show()"
   ]
  },
  {
   "cell_type": "code",
   "execution_count": 25,
   "id": "66f418a8-d197-43c9-875d-d44fa9559671",
   "metadata": {
    "executionCancelledAt": null,
    "executionTime": 186,
    "lastExecutedAt": 1692327780823,
    "lastScheduledRunId": null,
    "lastSuccessfullyExecutedCode": "# visualize the servings distribution\n\nplt.figure(figsize=(10, 6))\ndf['servings'].value_counts().plot(kind='bar')\nplt.title('Distribution of Servings')\nplt.xlabel('Servings')\nplt.ylabel('Count/ Number of Servings')\nplt.xticks(rotation=0)\nplt.show()"
   },
   "outputs": [
    {
     "data": {
      "image/png": "[encoded data removed]",
      "text/plain": [
       "<Figure size 720x432 with 1 Axes>"
      ]
     },
     "metadata": {
      "needs_background": "light"
     },
     "output_type": "display_data"
    }
   ],
   "source": [
    "# visualize the servings distribution\n",
    "\n",
    "plt.figure(figsize=(10, 6))\n",
    "df['servings'].value_counts().plot(kind='bar')\n",
    "plt.title('Distribution of Servings')\n",
    "plt.xlabel('Servings')\n",
    "plt.ylabel('Count/ Number of Servings')\n",
    "plt.xticks(rotation=0)\n",
    "plt.show()"
   ]
  },
  {
   "cell_type": "code",
   "execution_count": 26,
   "id": "9733e8fe-4bb3-4ed2-afe0-0df0d8c865de",
   "metadata": {
    "executionCancelledAt": null,
    "executionTime": 96,
    "lastExecutedAt": 1692327780919,
    "lastScheduledRunId": null,
    "lastSuccessfullyExecutedCode": "# compute percentage of traffic\ndf['traffic'].value_counts().plot.pie(explode= [0.02, 0.02], autopct = '%1.1f%%', figsize=(10,6), ylabel='')\nplt.title('Traffic Distribution');"
   },
   "outputs": [
    {
     "data": {
      "image/png": "[encoded data removed]",
      "text/plain": [
       "<Figure size 720x432 with 1 Axes>"
      ]
     },
     "metadata": {},
     "output_type": "display_data"
    }
   ],
   "source": [
    "# compute percentage of traffic\n",
    "df['traffic'].value_counts().plot.pie(explode= [0.02, 0.02], autopct = '%1.1f%%', figsize=(10,6), ylabel='')\n",
    "plt.title('Traffic Distribution');"
   ]
  },
  {
   "cell_type": "code",
   "execution_count": 27,
   "id": "3b21bc9b-3673-448b-a6e1-1d4bcf7938cf",
   "metadata": {},
   "outputs": [
    {
     "data": {
      "text/plain": [
       "<Figure size 720x432 with 0 Axes>"
      ]
     },
     "metadata": {},
     "output_type": "display_data"
    },
    {
     "data": {
      "image/png": "[encoded data removed]",
      "text/plain": [
       "<Figure size 432x288 with 1 Axes>"
      ]
     },
     "metadata": {
      "needs_background": "light"
     },
     "output_type": "display_data"
    }
   ],
   "source": [
    "# Create a cross-tabulation of 'category' and 'traffic'\n",
    "ct = pd.crosstab(df['category'], df['traffic'])\n",
    "\n",
    "# Create a stacked bar chart using Seaborn\n",
    "plt.figure(figsize=(10, 6))\n",
    "ct.plot(kind='bar', stacked=True)\n",
    "plt.title('The Distribution of Traffic by Category')\n",
    "plt.xlabel('Category')\n",
    "plt.ylabel('Count')\n",
    "plt.xticks(rotation=90)\n",
    "plt.legend(title='Traffic')\n",
    "plt.show()"
   ]
  },
  {
   "cell_type": "code",
   "execution_count": 28,
   "id": "42751dd0-b121-41a4-b5ab-34bf5b897a1f",
   "metadata": {},
   "outputs": [
    {
     "data": {
      "text/plain": [
       "<Figure size 720x432 with 0 Axes>"
      ]
     },
     "metadata": {},
     "output_type": "display_data"
    },
    {
     "data": {
      "image/png": "[encoded data removed]",
      "text/plain": [
       "<Figure size 432x288 with 1 Axes>"
      ]
     },
     "metadata": {
      "needs_background": "light"
     },
     "output_type": "display_data"
    }
   ],
   "source": [
    "# Pivot the data to get counts of each combination\n",
    "pivot_df = df.groupby(['servings', 'traffic']).size().unstack()\n",
    "\n",
    "# Plot the stacked bar chart\n",
    "plt.figure(figsize=(10, 6))\n",
    "pivot_df.plot(kind='bar', stacked=True)\n",
    "plt.title('The Distribution of Traffic by Servings')\n",
    "plt.xlabel('Servings')\n",
    "plt.ylabel('Number of Servings')\n",
    "plt.legend(title='Traffic')\n",
    "plt.xticks(rotation=0)\n",
    "plt.show()"
   ]
  },
  {
   "cell_type": "code",
   "execution_count": 29,
   "id": "bf9f9418-f8c4-452d-949d-f925da729bbe",
   "metadata": {},
   "outputs": [
    {
     "data": {
      "image/png": "[encoded data removed]",
      "text/plain": [
       "<Figure size 720x432 with 1 Axes>"
      ]
     },
     "metadata": {
      "needs_background": "light"
     },
     "output_type": "display_data"
    }
   ],
   "source": [
    "# Create a crosstab to get counts for each combination of category and servings\n",
    "crosstab_data = pd.crosstab(df['category'], df['servings'])\n",
    "\n",
    "# Plot a stacked bar chart\n",
    "ax = crosstab_data.plot(kind='bar', stacked=True, figsize=(10, 6))\n",
    "plt.title('The Distribution of Servings by Category')\n",
    "plt.xlabel('Category')\n",
    "plt.ylabel('Number of Category')\n",
    "plt.xticks(rotation=90)\n",
    "plt.legend(title='Servings')\n",
    "plt.show()"
   ]
  },
  {
   "cell_type": "code",
   "execution_count": 30,
   "id": "2c5481e2-7f2a-4017-8523-8d19dab6c95d",
   "metadata": {
    "executionCancelledAt": null,
    "executionTime": 178,
    "lastExecutedAt": 1692327782062,
    "lastScheduledRunId": null,
    "lastSuccessfullyExecutedCode": "# Boxplot Analysis: Relationship between Calories and Category\nsns.boxplot(x='traffic', y='calories', data=df)\nplt.title(\"The Distribution of Calories by Traffic\")\nplt.xlabel('Traffic')\nplt.ylabel('Calories')\nplt.xticks(rotation=90)\nplt.show()"
   },
   "outputs": [
    {
     "data": {
      "image/png": "[encoded data removed]",
      "text/plain": [
       "<Figure size 432x288 with 1 Axes>"
      ]
     },
     "metadata": {
      "needs_background": "light"
     },
     "output_type": "display_data"
    }
   ],
   "source": [
    "# Boxplot Analysis: Relationship between Calories and Category\n",
    "sns.boxplot(x='traffic', y='calories', data=df)\n",
    "plt.title(\"The Distribution of Calories by Traffic\")\n",
    "plt.xlabel('Traffic')\n",
    "plt.ylabel('Calories')\n",
    "plt.xticks(rotation=90)\n",
    "plt.show()"
   ]
  },
  {
   "cell_type": "code",
   "execution_count": 31,
   "id": "3cf8184e-1450-4395-9205-557e7e970dd6",
   "metadata": {
    "executionCancelledAt": null,
    "executionTime": 654,
    "lastExecutedAt": 1692327782716,
    "lastScheduledRunId": null,
    "lastSuccessfullyExecutedCode": "# Histogram plot of numerical features shows the skewness of the data\nfeats_to_drop = ['category', 'servings', 'traffic']\ndf.drop(columns=feats_to_drop).hist(grid=True, layout=(2,2), bins=20)\nplt.subplots_adjust(left=0.1,bottom=0.1,  right=0.9, top=0.9,  wspace=0.4, hspace=0.4)  \nplt.gcf().set_size_inches(10,8)\nplt.show()"
   },
   "outputs": [
    {
     "data": {
      "image/png": "[encoded data removed]",
      "text/plain": [
       "<Figure size 720x576 with 4 Axes>"
      ]
     },
     "metadata": {
      "needs_background": "light"
     },
     "output_type": "display_data"
    }
   ],
   "source": [
    "# Histogram plot of numerical features shows the skewness of the data\n",
    "feats_to_drop = ['category', 'servings', 'traffic']\n",
    "df.drop(columns=feats_to_drop).hist(grid=True, layout=(2,2), bins=20)\n",
    "plt.subplots_adjust(left=0.1,bottom=0.1,  right=0.9, top=0.9,  wspace=0.4, hspace=0.4)  \n",
    "plt.gcf().set_size_inches(10,8)\n",
    "plt.show()"
   ]
  },
  {
   "cell_type": "code",
   "execution_count": 32,
   "id": "d3b136e3-26d7-44e6-ace1-a6fcd67f4f83",
   "metadata": {
    "executionCancelledAt": null,
    "executionTime": 49,
    "lastExecutedAt": 1692327782765,
    "lastScheduledRunId": null,
    "lastSuccessfullyExecutedCode": "# for modeling purpose, encode categorical variables to numeric using Ordinal Encoder\ncat_features = ['category']\ncategory_encoder = OrdinalEncoder()\ndf[cat_features] = category_encoder.fit_transform(df[cat_features])"
   },
   "outputs": [],
   "source": [
    "# for modeling purpose, encode categorical variables to numeric using Ordinal Encoder\n",
    "cat_features = ['category']\n",
    "category_encoder = OrdinalEncoder()\n",
    "df[cat_features] = category_encoder.fit_transform(df[cat_features])"
   ]
  },
  {
   "cell_type": "code",
   "execution_count": 33,
   "id": "3634bbf9-10a8-4c6a-8af3-082131a11950",
   "metadata": {
    "executionCancelledAt": null,
    "executionTime": 52,
    "lastExecutedAt": 1692327782817,
    "lastScheduledRunId": null,
    "lastSuccessfullyExecutedCode": "# replace 'High' with 1 and 'Low' with 0 in 'traffic' column\ndf['traffic'] = df['traffic'].apply(lambda x: 1 if x == 'High' else 0)"
   },
   "outputs": [],
   "source": [
    "# replace 'High' with 1 and 'Low' with 0 in 'traffic' column\n",
    "df['traffic'] = df['traffic'].apply(lambda x: 1 if x == 'High' else 0)"
   ]
  },
  {
   "cell_type": "code",
   "execution_count": 34,
   "id": "3075e2d4-5526-4ed5-9822-a7e40855fd26",
   "metadata": {
    "executionCancelledAt": null,
    "executionTime": 51,
    "lastExecutedAt": 1692327782869,
    "lastScheduledRunId": null,
    "lastSuccessfullyExecutedCode": "# check if all columns are numeric\nassert df.dtypes.apply(pd.api.types.is_numeric_dtype).all()\n\nprint(\"All columns are in numeric datatype.\")",
    "outputsMetadata": {
     "0": {
      "height": 36,
      "type": "stream"
     }
    }
   },
   "outputs": [
    {
     "name": "stdout",
     "output_type": "stream",
     "text": [
      "All columns are in numeric datatype.\n"
     ]
    }
   ],
   "source": [
    "# check if all columns are numeric\n",
    "assert df.dtypes.apply(pd.api.types.is_numeric_dtype).all()\n",
    "\n",
    "print(\"All columns are in numeric datatype.\")"
   ]
  },
  {
   "cell_type": "code",
   "execution_count": 35,
   "id": "b113e22a-5a12-4511-a82e-e30dc94463f9",
   "metadata": {
    "executionCancelledAt": null,
    "executionTime": 48,
    "lastExecutedAt": 1692327782917,
    "lastScheduledRunId": null,
    "lastSuccessfullyExecutedCode": "# create explanatory variable (X) and response variable (y)\nX = df.drop(columns='traffic')\ny = df['traffic']"
   },
   "outputs": [],
   "source": [
    "# create explanatory variable (X) and response variable (y)\n",
    "X = df.drop(columns='traffic')\n",
    "y = df['traffic']"
   ]
  },
  {
   "cell_type": "code",
   "execution_count": 36,
   "id": "dac2c66f-f7f9-4b83-8b08-e38b380cfd4e",
   "metadata": {
    "executionCancelledAt": null,
    "executionTime": 52,
    "lastExecutedAt": 1692327782969,
    "lastScheduledRunId": null,
    "lastSuccessfullyExecutedCode": "# split data into train and test sets - 80:20\nX_train, X_test, y_train, y_test = train_test_split(X, y, test_size=0.2, random_state=42)"
   },
   "outputs": [],
   "source": [
    "# split data into train and test sets - 80:20\n",
    "X_train, X_test, y_train, y_test = train_test_split(X, y, test_size=0.2, random_state=42)"
   ]
  },
  {
   "cell_type": "code",
   "execution_count": 37,
   "id": "8f33602e-e66b-4002-8701-2afe2312dd8b",
   "metadata": {
    "executionCancelledAt": null,
    "executionTime": 53,
    "lastExecutedAt": 1692327783022,
    "lastScheduledRunId": null,
    "lastSuccessfullyExecutedCode": "#  assert data split to avoid leakage\nprint(len(X_train) + len(X_test) == len(X))\nprint(len(y_train) + len(y_test) == len(y))",
    "outputsMetadata": {
     "0": {
      "height": 56,
      "type": "stream"
     }
    }
   },
   "outputs": [
    {
     "name": "stdout",
     "output_type": "stream",
     "text": [
      "True\n",
      "True\n"
     ]
    }
   ],
   "source": [
    "#  assert data split to avoid leakage\n",
    "print(len(X_train) + len(X_test) == len(X))\n",
    "print(len(y_train) + len(y_test) == len(y))"
   ]
  },
  {
   "cell_type": "code",
   "execution_count": 38,
   "id": "ed3cdd17-6877-4655-baff-68f234ad4e7e",
   "metadata": {
    "executionCancelledAt": null,
    "executionTime": 51,
    "lastExecutedAt": 1692327783073,
    "lastScheduledRunId": null,
    "lastSuccessfullyExecutedCode": "# normalize the features using MinMaxScaler\nscaler = MinMaxScaler()\nX_train = scaler.fit_transform(X_train)\nX_test = scaler.transform(X_test)"
   },
   "outputs": [],
   "source": [
    "# normalize the features using MinMaxScaler\n",
    "scaler = MinMaxScaler()\n",
    "X_train = scaler.fit_transform(X_train)\n",
    "X_test = scaler.transform(X_test)"
   ]
  },
  {
   "cell_type": "markdown",
   "id": "dd70173b-edf0-48ab-9666-4b03da2266d8",
   "metadata": {},
   "source": [
    "## 3.1 Report\n",
    "\n",
    "- Examining the pie chart, it's evident that 60.6% of recipes result in high traffic, while 39.4% yield low traffic.\n",
    "- Chicken is the most frequently ordered category, with Breakfast being the next popular choice, while One Dish Meal is the least preferred. This suggests that chicken-based recipes tend to provide higher calorie content. Hence, the more calories a food has, the higher the chance of selecting the food thereby leading to high traffic and this is due to their high nutritional contents.  \n",
    "- Categories like Potato, Vegetable, and Pork are associated with high traffic. \n",
    "- The boxplot reveals that the more calories a food has, the higher the chance of selecting the food thereby leading to high traffic.\n",
    "- In terms of servings, '4' has the highest traffic frequency, followed by '6', '2', and '1'. This suggests subscribers live an above-average lifestyle, opting for moderate food consumption to maintain health. \n",
    "\n",
    "\n",
    "- The numerical features are right skewed hence the data will be normalized for machine learning.\n",
    "- The categorical variables were encoded to numeric as this is necessary for machine learning.\n",
    "- The explanatory variable (X) and response variable (y) were created and splitted into train and test set.\n",
    "- The train and test was normalized so as to keep all features within the same distance metric."
   ]
  },
  {
   "cell_type": "markdown",
   "id": "a3e36068-dbef-4bd6-be1e-e7ddfef617e9",
   "metadata": {},
   "source": [
    "# 4. Modeling\n",
    "\n",
    "## 4.1 Model Fitting\n",
    "\n",
    "As the target variable is 'traffic,' categorized as High (1) or Low (0), this presents a classification task. </br> It involves supervised learning, where the program learns from training data to predict new instances. </br> For modeling, five classification models namely, Logistic Regression, Decision Tree, Random Forest, XGBoost and Gradient Boosting models will be employed to make predictions."
   ]
  },
  {
   "cell_type": "code",
   "execution_count": 39,
   "id": "dd38585a-e65d-47ec-88b1-5387fe001870",
   "metadata": {
    "executionCancelledAt": null,
    "executionTime": 52,
    "lastExecutedAt": 1692327783125,
    "lastScheduledRunId": null,
    "lastSuccessfullyExecutedCode": "# baseline model - logistic regression classifier \nclf = LogisticRegression()\n\n# train the classifer on the train set\nclf.fit(X_train, y_train)\n\n# Predict the outcomes on the test set\ny_pred = clf.predict(X_test)"
   },
   "outputs": [],
   "source": [
    "# instantiate models\n",
    "modelclasses = {'LogisticReg': LogisticRegression(random_state=42),\n",
    "                'DecisionTree': DecisionTreeClassifier(random_state=42),\n",
    "                'RandomForest': RandomForestClassifier(random_state=42),\n",
    "                'XGBoost': XGBClassifier(random_state=42),\n",
    "                'GradientBoosting': GradientBoostingClassifier(random_state=42)\n",
    "             }"
   ]
  },
  {
   "cell_type": "code",
   "execution_count": 40,
   "id": "3103a8e9-88dd-49cb-8238-08b33c28a9ea",
   "metadata": {
    "executionCancelledAt": null,
    "executionTime": 175,
    "lastExecutedAt": 1692327783300,
    "lastScheduledRunId": null,
    "lastSuccessfullyExecutedCode": "# comparison model - random forest classifier\nclf_2 = RandomForestClassifier()\n\n# Train the classifer on the train set\nclf_2.fit(X_train, y_train)\n\n# Predict the outcomes on the test set\ny_pred_2 = clf_2.predict(X_test)"
   },
   "outputs": [
    {
     "data": {
      "text/html": [
       "<div>\n",
       "<style scoped>\n",
       "    .dataframe tbody tr th:only-of-type {\n",
       "        vertical-align: middle;\n",
       "    }\n",
       "\n",
       "    .dataframe tbody tr th {\n",
       "        vertical-align: top;\n",
       "    }\n",
       "\n",
       "    .dataframe thead th {\n",
       "        text-align: right;\n",
       "    }\n",
       "</style>\n",
       "<table border=\"1\" class=\"dataframe\">\n",
       "  <thead>\n",
       "    <tr style=\"text-align: right;\">\n",
       "      <th></th>\n",
       "      <th>Model</th>\n",
       "      <th>Accuracy Score</th>\n",
       "      <th>F1 Score</th>\n",
       "    </tr>\n",
       "  </thead>\n",
       "  <tbody>\n",
       "    <tr>\n",
       "      <th>0</th>\n",
       "      <td>LogisticReg</td>\n",
       "      <td>0.76</td>\n",
       "      <td>0.75</td>\n",
       "    </tr>\n",
       "    <tr>\n",
       "      <th>1</th>\n",
       "      <td>DecisionTree</td>\n",
       "      <td>0.65</td>\n",
       "      <td>0.64</td>\n",
       "    </tr>\n",
       "    <tr>\n",
       "      <th>2</th>\n",
       "      <td>RandomForest</td>\n",
       "      <td>0.71</td>\n",
       "      <td>0.68</td>\n",
       "    </tr>\n",
       "    <tr>\n",
       "      <th>3</th>\n",
       "      <td>XGBoost</td>\n",
       "      <td>0.72</td>\n",
       "      <td>0.70</td>\n",
       "    </tr>\n",
       "    <tr>\n",
       "      <th>4</th>\n",
       "      <td>GradientBoosting</td>\n",
       "      <td>0.75</td>\n",
       "      <td>0.73</td>\n",
       "    </tr>\n",
       "  </tbody>\n",
       "</table>\n",
       "</div>"
      ],
      "text/plain": [
       "              Model  Accuracy Score  F1 Score\n",
       "0       LogisticReg            0.76      0.75\n",
       "1      DecisionTree            0.65      0.64\n",
       "2      RandomForest            0.71      0.68\n",
       "3           XGBoost            0.72      0.70\n",
       "4  GradientBoosting            0.75      0.73"
      ]
     },
     "execution_count": 40,
     "metadata": {},
     "output_type": "execute_result"
    }
   ],
   "source": [
    "# Iteration of models\n",
    "\n",
    "# create a list to store model results\n",
    "acc_scores = []\n",
    "f1_scores = []\n",
    "\n",
    "for model_name, model_method in modelclasses.items():\n",
    "       \n",
    "    # fit model to training data\n",
    "    model_method.fit(X_train, y_train)\n",
    "    \n",
    "    # predict the outcomes on the test set\n",
    "    y_pred = model_method.predict(X_test)\n",
    "    \n",
    "    # append accuracy evaluation metric for the model to the list \n",
    "    acc_scores.append(round(accuracy_score(y_test, y_pred),2))\n",
    "    \n",
    "    # append R2 score evaluation metric for the model to the list\n",
    "    f1_scores.append(round(f1_score(y_test, y_pred, pos_label='positive', average='macro'),2))\n",
    "    \n",
    "# create a dataframe to store the results\n",
    "cla_results = pd.DataFrame({\"Model\":modelclasses.keys(), \"Accuracy Score\": acc_scores, \"F1 Score\": f1_scores})\n",
    "cla_results"
   ]
  },
  {
   "cell_type": "code",
   "execution_count": 41,
   "id": "759cf406",
   "metadata": {},
   "outputs": [
    {
     "data": {
      "image/png": "[encoded data removed]",
      "text/plain": [
       "<Figure size 432x288 with 1 Axes>"
      ]
     },
     "metadata": {
      "needs_background": "light"
     },
     "output_type": "display_data"
    }
   ],
   "source": [
    "# plot the Accuracy Score \n",
    "plt.ylabel('Model')\n",
    "plt.xlabel('')\n",
    "plt.title('Model Comparison', fontsize=16)\n",
    "sns.barplot(x=cla_results['F1 Score'], y=cla_results.Model)\n",
    "plt.show()"
   ]
  },
  {
   "cell_type": "code",
   "execution_count": 42,
   "id": "f19001c2-7a46-433a-969b-f11855ea6a7f",
   "metadata": {
    "executionCancelledAt": null,
    "executionTime": 48,
    "lastExecutedAt": 1692327783349,
    "lastScheduledRunId": null,
    "lastSuccessfullyExecutedCode": "# Model Evaluation\ndef evaluation_metrics_func(y_test, y_pred):\n    \n    print('Evaluation metric results:-')\n    print(f'Accuracy Score: {accuracy_score(y_test, y_pred):.2f}')\n    print(f'F1 Score: {f1_score(y_test, y_pred):.2f}')"
   },
   "outputs": [],
   "source": [
    "# Model Evaluation\n",
    "def evaluation_metrics_func(y_test, y_pred):\n",
    "    \n",
    "    print('Evaluation metric results:-')\n",
    "    print(f'Accuracy Score: {accuracy_score(y_test, y_pred):.2f}')\n",
    "    print(f'F1 Score: {f1_score(y_test, y_pred):.2f}')\n",
    "    print('Confusion Matrix: \\n', confusion_matrix(y_test, y_pred))\n",
    "    print('Classification Report : \\n', classification_report(y_test, y_pred))"
   ]
  },
  {
   "cell_type": "markdown",
   "id": "b6c3caa3",
   "metadata": {},
   "source": [
    "## 4.2 Model Hyperparameter Tuning\n",
    "\n",
    "The Logistic Regression classifier stood out with strong accuracy and F1 scores. We'll conduct hyperparameter tuning to delve deeper into the capabilities of this model.\n",
    "\n",
    "Hyperparameter tuning involves discovering the optimal settings that influence how a machine learning model works, aiming to enhance its performance for a given task. We'll employ the Grid Search technique, where a predefined range of hyperparameter values is evaluated exhaustively to find the best combination."
   ]
  },
  {
   "cell_type": "code",
   "execution_count": 43,
   "id": "5a63380d",
   "metadata": {},
   "outputs": [
    {
     "name": "stdout",
     "output_type": "stream",
     "text": [
      "Fitting 5 folds for each of 48 candidates, totalling 240 fits\n",
      " Results from Random Search \n",
      "\n",
      " The best estimator across ALL searched params:\n",
      " LogisticRegression(random_state=42)\n",
      "\n",
      " The best score across ALL searched params:\n",
      " 0.7635935866155454\n",
      "\n",
      " The best parameters across ALL searched params:\n",
      " {'C': 1.0, 'max_iter': 100, 'penalty': 'l2', 'solver': 'lbfgs'}\n"
     ]
    }
   ],
   "source": [
    "# Hyperparameter tuning for Logistic Regression using GridSearchCV\n",
    "grid_search = GridSearchCV(LogisticRegression(random_state=42),\n",
    "                 param_grid = {\n",
    "                              'C': [0.01, 0.1, 1.0, 10.0],           # Inverse of regularization strength\n",
    "                              'penalty': ['l1', 'l2'],               # Regularization type ('l1' or 'l2')\n",
    "                              'solver': ['liblinear', 'lbfgs'],      # Optimization algorithm\n",
    "                              'max_iter': [100, 200, 300]            # Maximum number of iterations\n",
    "                               }, cv=5,                              # Cross-validation folds\n",
    "                                  scoring='accuracy',                # The metric to optimize\n",
    "                                  verbose=1                          # Verbosity level\n",
    "                                            )\n",
    "\n",
    "\n",
    "# Fit the GridSearchCV to the data\n",
    "grid_search.fit(X_train, y_train)\n",
    "\n",
    "best_params=grid_search.best_params_\n",
    "\n",
    "print(\" Results from Random Search \" )\n",
    "print(\"\\n The best estimator across ALL searched params:\\n\", grid_search.best_estimator_)\n",
    "print(\"\\n The best score across ALL searched params:\\n\", grid_search.best_score_)\n",
    "print(\"\\n The best parameters across ALL searched params:\\n\", best_params)"
   ]
  },
  {
   "cell_type": "code",
   "execution_count": 44,
   "id": "dc853089",
   "metadata": {},
   "outputs": [
    {
     "name": "stdout",
     "output_type": "stream",
     "text": [
      "Evaluation metric results:-\n",
      "Accuracy Score: 0.76\n",
      "F1 Score: 0.80\n",
      "Confusion Matrix: \n",
      " [[54 23]\n",
      " [23 90]]\n",
      "Classification Report : \n",
      "               precision    recall  f1-score   support\n",
      "\n",
      "           0       0.70      0.70      0.70        77\n",
      "           1       0.80      0.80      0.80       113\n",
      "\n",
      "    accuracy                           0.76       190\n",
      "   macro avg       0.75      0.75      0.75       190\n",
      "weighted avg       0.76      0.76      0.76       190\n",
      "\n",
      "Confusion Matrix:\n",
      "\n"
     ]
    },
    {
     "data": {
      "image/png": "[encoded data removed]",
      "text/plain": [
       "<Figure size 432x288 with 2 Axes>"
      ]
     },
     "metadata": {
      "needs_background": "light"
     },
     "output_type": "display_data"
    }
   ],
   "source": [
    "# Build Logistic Regression Classifier Model\n",
    "model = LogisticRegression(C=best_params[\"C\"], \n",
    "                               penalty=best_params[\"penalty\"], \n",
    "                               solver=best_params['solver'],\n",
    "                               max_iter=best_params['max_iter']\n",
    "                              )\n",
    "\n",
    "# fit model\n",
    "model.fit(X_train, y_train)\n",
    "\n",
    "# make predictions on the test set\n",
    "y_pred = model.predict(X_test)\n",
    "\n",
    "# computing the evaluation metrics\n",
    "evaluation_metrics_func(y_test, y_pred)\n",
    "print(f'Confusion Matrix:\\n')\n",
    "plot_confusion_matrix(model, X_test, y_test, cmap='Spectral_r');"
   ]
  },
  {
   "cell_type": "code",
   "execution_count": 45,
   "id": "a6a990cb",
   "metadata": {},
   "outputs": [
    {
     "name": "stdout",
     "output_type": "stream",
     "text": [
      "Feature Weights:\n",
      "calories: 0.1459\n",
      "carbohydrate: 0.7909\n",
      "sugar: -0.0753\n",
      "protein: 0.3626\n",
      "category: 4.2452\n",
      "servings: 0.0980\n"
     ]
    }
   ],
   "source": [
    "# Get feature weights (coefficients)\n",
    "feature_weights = model.coef_[0]\n",
    "\n",
    "# Print feature weights\n",
    "print(\"Feature Weights:\")\n",
    "for feature, weight in zip(X.columns, feature_weights):\n",
    "    print(f\"{feature}: {weight:.4f}\")"
   ]
  },
  {
   "cell_type": "code",
   "execution_count": 46,
   "id": "8ab97ab7",
   "metadata": {},
   "outputs": [
    {
     "data": {
      "image/png": "[encoded data removed]",
      "text/plain": [
       "<Figure size 864x576 with 1 Axes>"
      ]
     },
     "metadata": {
      "needs_background": "light"
     },
     "output_type": "display_data"
    }
   ],
   "source": [
    "# create a dataframe of feature weight\n",
    "feat_imp_ = pd.DataFrame(feature_weights, X.columns, columns=[\"Feature Importance\"]).sort_values(by=\"Feature Importance\", ascending=False)\n",
    "\n",
    "# plot feature weights\n",
    "plt.figure(figsize=(12,8))\n",
    "plt.ylabel('Features')\n",
    "plt.xlabel('')\n",
    "plt.title('Feature Importance', fontsize=16)\n",
    "sns.barplot(x=feat_imp_['Feature Importance'], y=feat_imp_.index)\n",
    "plt.show()"
   ]
  },
  {
   "cell_type": "markdown",
   "id": "72472d49-7e4f-4f8b-9e74-71e8c6831529",
   "metadata": {},
   "source": [
    "## 4.3 Model Evaluation\n",
    "\n",
    "1. The Logistic Regression classifier showcased higher accuracy, as demonstrated by the accuracy score and F1 score evaluations.\n",
    "2. Utilizing the Logistic Regression model, our aim was to uncover the main catalysts for increased website traffic. The 'category' attribute surfaced as the most influential factor, trailed by carbohydrate and protein, as illustrated by feature importance plot. Notably, recipes with elevated sugar content were linked to reduced traffic, possibly due to the maintenance of healthy lifestyle by subscribers."
   ]
  },
  {
   "cell_type": "markdown",
   "id": "3b0ec9be-bb3c-4b9d-b8c7-405e162bcc48",
   "metadata": {},
   "source": [
    "# 5. Business Metrics\n",
    "\n",
    "As our objective is to predict recipe popularity with an 80% accuracy rate while minimizing the presentation of unpopular recipes, the model demonstrates that food categories with substantial carbohydrate content, where protein constitutes half of the carbohydrate ratio, display considerable attractiveness and frequently align with increased website traffic. \n",
    "Notably, recipes with elevated sugar content were linked to reduced traffic, possibly due to the maintenance of healthy lifestyle by subscribers."
   ]
  },
  {
   "cell_type": "markdown",
   "id": "ecf63a1d-e92c-4e30-b8a1-5d22084a4bec",
   "metadata": {},
   "source": [
    "# 6. Recommendation\n",
    "\n",
    "I would recommend that Tasty Bytes should do the following in order to boost revenue:\n",
    "\n",
    "\n",
    "- Using key metrics to monitor whether there is a strong sign to see the elevated website traffic.\n",
    "- Cost per serving should be provided on the website for visitors to make choice.\n",
    "- Display food categories with substantial carbohydrate content and protein more often.\n",
    "- Display food with high calorie contents and nutritional value. \n",
    "- Data Collection for in-depth analysis\n",
    "    - Operational area and customer demographics\n",
    "    - Time to make and cost per serving `($)` as these features might influence customer's decision."
   ]
  }
 ],
 "metadata": {
  "colab": {
   "name": "Welcome to DataCamp Workspaces.ipynb",
   "provenance": []
  },
  "kernelspec": {
   "display_name": "Python 3 (ipykernel)",
   "language": "python",
   "name": "python3"
  },
  "language_info": {
   "codemirror_mode": {
    "name": "ipython",
    "version": 3
   },
   "file_extension": ".py",
   "mimetype": "text/x-python",
   "name": "python",
   "nbconvert_exporter": "python",
   "pygments_lexer": "ipython3",
   "version": "3.9.13"
  },
  "toc-autonumbering": true,
  "toc-showcode": false,
  "toc-showmarkdowntxt": false
 },
 "nbformat": 4,
 "nbformat_minor": 5
}
